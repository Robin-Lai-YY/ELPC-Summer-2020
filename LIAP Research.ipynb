{
 "cells": [
  {
   "cell_type": "markdown",
   "metadata": {},
   "source": [
    "**Components on the Analog Discovery 2 board:**\n",
    "* Two-channel oscilloscope\n",
    "* Two-channel arbitrary function generator\n",
    "* Stereo audio amplifier\n",
    "* 16-channel digital logic analyzer \n",
    "* 16-channel pattern generator \n",
    "* 16-channel virtual digital I/O including buttons, switches, and LEDs\n",
    "* Two input/output digital trigger signals\n",
    "* Two programmable power supplies(500mW, 2.1W max, 700mA maximum current)\n",
    "* Two-channel voltmeter\n",
    "* Network analyzer\n",
    "* Spectrum Analyzer\n",
    "* Digital Bus Analyzers\n",
    "\n",
    "**1. How does variable voltage power supply work?**\n",
    "\n",
    "Variable Voltage Power Supply Using The LM317T\n",
    "\n",
    "The variable power supply circuit is equipped with an adjustable voltage regulator to adjust the output voltage according to the ratio of the output resistors. \n"
   ]
  }
 ],
 "metadata": {
  "kernelspec": {
   "display_name": "Python 3",
   "language": "python",
   "name": "python3"
  },
  "language_info": {
   "codemirror_mode": {
    "name": "ipython",
    "version": 3
   },
   "file_extension": ".py",
   "mimetype": "text/x-python",
   "name": "python",
   "nbconvert_exporter": "python",
   "pygments_lexer": "ipython3",
   "version": "3.7.6"
  }
 },
 "nbformat": 4,
 "nbformat_minor": 4
}
